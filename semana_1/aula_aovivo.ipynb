{
  "cells": [
    {
      "cell_type": "markdown",
      "id": "32600998",
      "metadata": {
        "id": "32600998"
      },
      "source": [
        "# Exercício\n",
        "\n",
        "Construa um programa que:\n",
        " - Pergunte a usuária 2 números inteiros;\n",
        " - Crie uma lista numérica do intervalo;\n",
        " - Se o número for divisível por 3, substitua-o por \"Tecnologia\";\n",
        " - Se o número for divisível por 5, substitua-o por \"Cívica\";\n",
        " - Se o número for divisível por 3 e 5, substitua-o por \"Tecnologia Cívica\"."
      ]
    },
    {
      "cell_type": "code",
      "source": [
        "num1 = int(input('Informe um número: '))"
      ],
      "metadata": {
        "id": "TxRUETfYyC0V",
        "outputId": "0df598ec-4852-4bf2-c0bd-3554c4347ab0",
        "colab": {
          "base_uri": "https://localhost:8080/"
        }
      },
      "id": "TxRUETfYyC0V",
      "execution_count": 1,
      "outputs": [
        {
          "name": "stdout",
          "output_type": "stream",
          "text": [
            "Informe um número: 10\n"
          ]
        }
      ]
    },
    {
      "cell_type": "code",
      "source": [
        "num2 = int(input('Informe outro número: '))\n",
        "\n",
        "if num2 < num1:\n",
        "    num2 = num1 + 10\n",
        "else:\n",
        "    num2 = num2"
      ],
      "metadata": {
        "id": "hFs9Z8fuyMgE",
        "outputId": "c36b824a-c77f-4e57-d4d1-b4b749b84387",
        "colab": {
          "base_uri": "https://localhost:8080/"
        }
      },
      "id": "hFs9Z8fuyMgE",
      "execution_count": 2,
      "outputs": [
        {
          "name": "stdout",
          "output_type": "stream",
          "text": [
            "Informe outro número: 50\n"
          ]
        }
      ]
    },
    {
      "cell_type": "code",
      "source": [
        "lista_numero =list(range(num1,num2))\n",
        "print(lista_numero)"
      ],
      "metadata": {
        "id": "_qb4Vr78yVw0",
        "outputId": "4f10e604-331b-4dc8-c7d6-6017cd44a99e",
        "colab": {
          "base_uri": "https://localhost:8080/"
        }
      },
      "id": "_qb4Vr78yVw0",
      "execution_count": 3,
      "outputs": [
        {
          "output_type": "stream",
          "name": "stdout",
          "text": [
            "[10, 11, 12, 13, 14, 15, 16, 17, 18, 19, 20, 21, 22, 23, 24, 25, 26, 27, 28, 29, 30, 31, 32, 33, 34, 35, 36, 37, 38, 39, 40, 41, 42, 43, 44, 45, 46, 47, 48, 49]\n"
          ]
        }
      ]
    },
    {
      "cell_type": "code",
      "source": [
        "lista = []"
      ],
      "metadata": {
        "id": "KY8RNLasyhlB"
      },
      "id": "KY8RNLasyhlB",
      "execution_count": 8,
      "outputs": []
    },
    {
      "cell_type": "code",
      "source": [
        "for item in lista_numero:\n",
        "    if item % 3 == 0:\n",
        "       lista.append(['Tecnologia',item])\n",
        "    elif item % 5 == 0:\n",
        "       lista.append(['Cívica', item])\n",
        "    elif item % 3 == 0 and item % 5 == 0:\n",
        "       lista.append(['Tecnologia Cívica',item])"
      ],
      "metadata": {
        "id": "EZUKQ3klytTC"
      },
      "id": "EZUKQ3klytTC",
      "execution_count": 9,
      "outputs": []
    },
    {
      "cell_type": "code",
      "source": [
        "print(lista)"
      ],
      "metadata": {
        "id": "-oy_S1UK5boh",
        "outputId": "a179eed1-3f13-47bb-ea7a-f511d13d9092",
        "colab": {
          "base_uri": "https://localhost:8080/"
        }
      },
      "id": "-oy_S1UK5boh",
      "execution_count": 7,
      "outputs": [
        {
          "output_type": "stream",
          "name": "stdout",
          "text": [
            "[['Cívica', 10], ['Tecnologia', 12], ['Tecnologia', 15], ['Cívica', 15], ['Tecnologia Cívica', 15], ['Tecnologia', 18], ['Cívica', 20], ['Tecnologia', 21], ['Tecnologia', 24], ['Cívica', 25], ['Tecnologia', 27], ['Tecnologia', 30], ['Cívica', 30], ['Tecnologia Cívica', 30], ['Tecnologia', 33], ['Cívica', 35], ['Tecnologia', 36], ['Tecnologia', 39], ['Cívica', 40], ['Tecnologia', 42], ['Tecnologia', 45], ['Cívica', 45], ['Tecnologia Cívica', 45], ['Tecnologia', 48]]\n"
          ]
        }
      ]
    }
  ],
  "metadata": {
    "kernelspec": {
      "display_name": "Python 3 (ipykernel)",
      "language": "python",
      "name": "python3"
    },
    "language_info": {
      "codemirror_mode": {
        "name": "ipython",
        "version": 3
      },
      "file_extension": ".py",
      "mimetype": "text/x-python",
      "name": "python",
      "nbconvert_exporter": "python",
      "pygments_lexer": "ipython3",
      "version": "3.10.6"
    },
    "colab": {
      "provenance": []
    }
  },
  "nbformat": 4,
  "nbformat_minor": 5
}