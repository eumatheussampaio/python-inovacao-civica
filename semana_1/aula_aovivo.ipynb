{
  "cells": [
    {
      "cell_type": "markdown",
      "id": "32600998",
      "metadata": {
        "id": "32600998"
      },
      "source": [
        "# Exercício\n",
        "\n",
        "Construa um programa que:\n",
        " - Pergunte a usuária 2 números inteiros;\n",
        " - Crie uma lista numérica do intervalo;\n",
        " - Se o número for divisível por 3, substitua-o por \"Tecnologia\";\n",
        " - Se o número for divisível por 5, substitua-o por \"Cívica\";\n",
        " - Se o número for divisível por 3 e 5, substitua-o por \"Tecnologia Cívica\"."
      ]
    },
    {
      "cell_type": "code",
      "source": [
        "num1 = int(input('Informe um número: '))"
      ],
      "metadata": {
        "colab": {
          "base_uri": "https://localhost:8080/"
        },
        "id": "TxRUETfYyC0V",
        "outputId": "c12f7d2e-6aec-4c4e-9a0b-ed70c933f896"
      },
      "id": "TxRUETfYyC0V",
      "execution_count": 1,
      "outputs": [
        {
          "name": "stdout",
          "output_type": "stream",
          "text": [
            "Informe um número: 10\n"
          ]
        }
      ]
    },
    {
      "cell_type": "code",
      "source": [
        "num2 = int(input('Informe outro número: '))\n",
        "\n",
        "if num2 < num1:\n",
        "    num2 = num1 + 10\n",
        "else:\n",
        "    num2 = num2"
      ],
      "metadata": {
        "colab": {
          "base_uri": "https://localhost:8080/"
        },
        "id": "hFs9Z8fuyMgE",
        "outputId": "2d2c2fd4-e56f-4079-be9a-9aaa7cc03758"
      },
      "id": "hFs9Z8fuyMgE",
      "execution_count": 2,
      "outputs": [
        {
          "name": "stdout",
          "output_type": "stream",
          "text": [
            "Informe outro número: 40\n"
          ]
        }
      ]
    },
    {
      "cell_type": "code",
      "source": [
        "lista_numero =list(range(num1,num2))\n",
        "print(lista_numero)"
      ],
      "metadata": {
        "colab": {
          "base_uri": "https://localhost:8080/"
        },
        "id": "_qb4Vr78yVw0",
        "outputId": "2e32bc8d-0dbc-42d1-d4e9-b143e6ad9d88"
      },
      "id": "_qb4Vr78yVw0",
      "execution_count": 3,
      "outputs": [
        {
          "output_type": "stream",
          "name": "stdout",
          "text": [
            "[10, 11, 12, 13, 14, 15, 16, 17, 18, 19, 20, 21, 22, 23, 24, 25, 26, 27, 28, 29, 30, 31, 32, 33, 34, 35, 36, 37, 38, 39]\n"
          ]
        }
      ]
    },
    {
      "cell_type": "code",
      "source": [
        "lista = []"
      ],
      "metadata": {
        "id": "KY8RNLasyhlB"
      },
      "id": "KY8RNLasyhlB",
      "execution_count": 4,
      "outputs": []
    },
    {
      "cell_type": "code",
      "source": [
        "for item in lista_numero:\n",
        "    if item % 3 == 0 and item % 5 == 0:\n",
        "       lista.append('Tecnologia Cívica')\n",
        "    elif item % 3 == 0:\n",
        "       lista.append('Tecnologia')\n",
        "    elif item % 5 == 0:\n",
        "       lista.append('Cívica')\n",
        "    else:\n",
        "        lista.append(item)"
      ],
      "metadata": {
        "id": "EZUKQ3klytTC"
      },
      "id": "EZUKQ3klytTC",
      "execution_count": 5,
      "outputs": []
    },
    {
      "cell_type": "code",
      "source": [
        "print(lista)"
      ],
      "metadata": {
        "colab": {
          "base_uri": "https://localhost:8080/"
        },
        "id": "-oy_S1UK5boh",
        "outputId": "4fad2958-9e36-4bad-edfa-5dbdf2105ec4"
      },
      "id": "-oy_S1UK5boh",
      "execution_count": 6,
      "outputs": [
        {
          "output_type": "stream",
          "name": "stdout",
          "text": [
            "['Cívica', 11, 'Tecnologia', 13, 14, 'Tecnologia Cívica', 16, 17, 'Tecnologia', 19, 'Cívica', 'Tecnologia', 22, 23, 'Tecnologia', 'Cívica', 26, 'Tecnologia', 28, 29, 'Tecnologia Cívica', 31, 32, 'Tecnologia', 34, 'Cívica', 'Tecnologia', 37, 38, 'Tecnologia']\n"
          ]
        }
      ]
    }
  ],
  "metadata": {
    "kernelspec": {
      "display_name": "Python 3 (ipykernel)",
      "language": "python",
      "name": "python3"
    },
    "language_info": {
      "codemirror_mode": {
        "name": "ipython",
        "version": 3
      },
      "file_extension": ".py",
      "mimetype": "text/x-python",
      "name": "python",
      "nbconvert_exporter": "python",
      "pygments_lexer": "ipython3",
      "version": "3.10.6"
    },
    "colab": {
      "provenance": []
    }
  },
  "nbformat": 4,
  "nbformat_minor": 5
}